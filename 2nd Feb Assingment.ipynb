{
 "cells": [
  {
   "cell_type": "markdown",
   "id": "3ac0c091",
   "metadata": {},
   "source": [
    "Q1. Explain with an example each when to use a for loop and a while loop.?"
   ]
  },
  {
   "cell_type": "markdown",
   "id": "e839222f",
   "metadata": {},
   "source": [
    "A for loop is a control flow statement that executes code for a predefined number of iterations. The keyword used in this control flow statement is “for”. When the number of iterations is already known, the for loop is used."
   ]
  },
  {
   "cell_type": "code",
   "execution_count": 1,
   "id": "2e60103d",
   "metadata": {},
   "outputs": [
    {
     "name": "stdout",
     "output_type": "stream",
     "text": [
      "Input list elements:\n",
      "10\n",
      "20\n",
      "30\n",
      "40\n",
      "50\n"
     ]
    }
   ],
   "source": [
    "#Example of for loop\n",
    "# input list\n",
    "inputList = [10, 20, 30, 40, 50]\n",
    "print(\"Input list elements:\")\n",
    "# traversing through all elements of the list using for loop\n",
    "for element in inputList:\n",
    "   # printing each element of the list\n",
    "   print(element)"
   ]
  },
  {
   "cell_type": "markdown",
   "id": "4ffb523b",
   "metadata": {},
   "source": [
    "A loop that runs a single statement or a set of statements for a given true condition. This loop is represented by the keyword \"while.\" When the number of iterations is unknown, a \"while\" loop is used. The statement is repeated until the boolean value is false. Because the condition is tested at the beginning of a while loop, it is also known as the pre-test loop."
   ]
  },
  {
   "cell_type": "code",
   "execution_count": 2,
   "id": "7aa9bb30",
   "metadata": {},
   "outputs": [
    {
     "name": "stdout",
     "output_type": "stream",
     "text": [
      "1\n",
      "2\n",
      "3\n",
      "4\n",
      "5\n",
      "6\n",
      "7\n",
      "8\n",
      "9\n"
     ]
    }
   ],
   "source": [
    "# Initializing a dummy variable with 1\n",
    "i = 1\n",
    "# Iterate until the given condition is true\n",
    "while i < 10:\n",
    "   # printing the current value of the above variable\n",
    "   print(i)\n",
    "   # incrementing the value of i value by 1\n",
    "   i += 1 "
   ]
  },
  {
   "cell_type": "markdown",
   "id": "34db57fc",
   "metadata": {},
   "source": [
    "Q2. Write a python program to print the sum and product of the first 10 natural numbers using for\n",
    "and while loop."
   ]
  },
  {
   "cell_type": "code",
   "execution_count": 8,
   "id": "2c6a7ef2",
   "metadata": {},
   "outputs": [
    {
     "name": "stdout",
     "output_type": "stream",
     "text": [
      "55\n"
     ]
    }
   ],
   "source": [
    "# Sum of first 10 natural number using for loop\n",
    "# crea\n",
    "Total_sum = 0\n",
    "for i in range(0,11):\n",
    "    Total_sum += i\n",
    "print(Total_sum)"
   ]
  },
  {
   "cell_type": "code",
   "execution_count": 11,
   "id": "c62f59d4",
   "metadata": {},
   "outputs": [
    {
     "name": "stdout",
     "output_type": "stream",
     "text": [
      "3628800\n"
     ]
    }
   ],
   "source": [
    "# Product of first 10 natural number using for loop\n",
    "product = 1\n",
    "for i in range (1,11):\n",
    "    product *= i\n",
    "print(product)"
   ]
  },
  {
   "cell_type": "code",
   "execution_count": 13,
   "id": "3f7979be",
   "metadata": {},
   "outputs": [
    {
     "name": "stdout",
     "output_type": "stream",
     "text": [
      "55\n"
     ]
    }
   ],
   "source": [
    "# Sum of n natural number using while loop\n",
    "Total_sum = 0 \n",
    "counter = 0\n",
    "while counter <= 10:\n",
    "    Total_sum = Total_sum + counter\n",
    "    counter += 1\n",
    "print(Total_sum)"
   ]
  },
  {
   "cell_type": "code",
   "execution_count": 14,
   "id": "bb930e4b",
   "metadata": {},
   "outputs": [
    {
     "name": "stdout",
     "output_type": "stream",
     "text": [
      "3628800\n"
     ]
    }
   ],
   "source": [
    "# Product of n natural number using for loop\n",
    "product = 1\n",
    "counter = 1\n",
    "while counter <= 10:\n",
    "    product = product*counter\n",
    "    counter += 1\n",
    "print(product)"
   ]
  },
  {
   "cell_type": "markdown",
   "id": "0b9fc607",
   "metadata": {},
   "source": [
    "Q3. Create a python program to compute the electricity bill for a household.\n",
    "    The per-unit charges in rupees are as follows: For the first 100 units, the user will be charged Rs. 4.5 per\n",
    "    unit, for the next 100 units, the user will be charged Rs. 6 per unit, and for the next 100 units, the user will\n",
    "    be charged Rs. 10 per unit, After 300 units and above the user will be charged Rs. 20 per unit.\n",
    "    You are required to take the units of electricity consumed in a month from the user as input.\n",
    "    Your program must pass this test case: when the unit of electricity consumed by the user in a month is\n",
    "    310, the total electricity bill should be 2250."
   ]
  },
  {
   "cell_type": "code",
   "execution_count": 20,
   "id": "5ecc43e2",
   "metadata": {},
   "outputs": [
    {
     "name": "stdout",
     "output_type": "stream",
     "text": [
      "Enter units consumed 310\n",
      "the user's bill is 2250.0\n"
     ]
    }
   ],
   "source": [
    "unit = int(input(\"Enter units consumed \"))\n",
    "if unit <=100:\n",
    "    bill = unit*4.5\n",
    "elif unit <= 200:\n",
    "    bill = 100*4.5 +(unit-100)*6\n",
    "elif unit <= 300:\n",
    "    bill = 100*4.5 + 100*6 + (unit-200)*10\n",
    "elif unit > 300:\n",
    "    bill = 100*4.5 +100*6 + 100*10 + (unit-300)*20\n",
    "print(\"the user's bill is\", bill)"
   ]
  },
  {
   "cell_type": "markdown",
   "id": "abbd6b71",
   "metadata": {},
   "source": [
    "Q4. Create a list of numbers from 1 to 100. Use for loop and while loop to calculate the cube of each\n",
    "number and if the cube of that number is divisible by 4 or 5 then append that number in a list and print\n",
    "that list."
   ]
  },
  {
   "cell_type": "code",
   "execution_count": 86,
   "id": "e3342ad0",
   "metadata": {},
   "outputs": [],
   "source": [
    "my_list = list(range(0,101))"
   ]
  },
  {
   "cell_type": "code",
   "execution_count": 63,
   "id": "7b298c79",
   "metadata": {},
   "outputs": [
    {
     "name": "stdout",
     "output_type": "stream",
     "text": [
      "[0, 2, 4, 5, 6, 8, 10, 12, 14, 15, 16, 18, 20, 22, 24, 25, 26, 28, 30, 32, 34, 35, 36, 38, 40, 42, 44, 45, 46, 48, 50, 52, 54, 55, 56, 58, 60, 62, 64, 65, 66, 68, 70, 72, 74, 75, 76, 78, 80, 82, 84, 85, 86, 88, 90, 92, 94, 95, 96, 98, 100]\n"
     ]
    }
   ],
   "source": [
    "# using for loop\n",
    "new_list = []\n",
    "for i in my_list:\n",
    "    if (i**3)%4 == 0 or (i**3)%5 == 0:\n",
    "        new_list.append(i)\n",
    "    else:\n",
    "        pass\n",
    "print(new_list)"
   ]
  },
  {
   "cell_type": "code",
   "execution_count": 84,
   "id": "95835229",
   "metadata": {},
   "outputs": [
    {
     "name": "stdout",
     "output_type": "stream",
     "text": [
      "[0, 2, 4, 5, 6, 8, 10, 12, 14, 15, 16, 18, 20, 22, 24, 25, 26, 28, 30, 32, 34, 35, 36, 38, 40, 42, 44, 45, 46, 48, 50, 52, 54, 55, 56, 58, 60, 62, 64, 65, 66, 68, 70, 72, 74, 75, 76, 78, 80, 82, 84, 85, 86, 88, 90, 92, 94, 95, 96, 98, 100]\n"
     ]
    }
   ],
   "source": [
    "# using while loop\n",
    "new_list2 = []\n",
    "while my_list:\n",
    "    i = my_list.pop()\n",
    "    c = i** 3\n",
    "    if (c % 4) == 0 or (c % 5) == 0:\n",
    "        new_list2.append(i)\n",
    "    else:\n",
    "        pass\n",
    "print(new_list2[::-1])"
   ]
  },
  {
   "cell_type": "code",
   "execution_count": 91,
   "id": "2f5d007e",
   "metadata": {},
   "outputs": [
    {
     "name": "stdout",
     "output_type": "stream",
     "text": [
      "[0, 2, 4, 5, 6, 8, 10, 12, 14, 15, 16, 18, 20, 22, 24, 25, 26, 28, 30, 32, 34, 35, 36, 38, 40, 42, 44, 45, 46, 48, 50, 52, 54, 55, 56, 58, 60, 62, 64, 65, 66, 68, 70, 72, 74, 75, 76, 78, 80, 82, 84, 85, 86, 88, 90, 92, 94, 95, 96, 98, 100]\n"
     ]
    }
   ],
   "source": [
    "# Alternate code\n",
    "new_list3 = []\n",
    "counter = 0\n",
    "while counter < len(my_list):\n",
    "    if (my_list[counter]**3) %4 == 0 or (my_list[counter]**3) %5 == 0:\n",
    "        new_list3.append(my_list[counter])\n",
    "    else:\n",
    "        pass\n",
    "    counter = counter +1\n",
    "\n",
    "print(new_list3)"
   ]
  },
  {
   "cell_type": "markdown",
   "id": "c40c4114",
   "metadata": {},
   "source": [
    "Q5. Write a program to filter count vowels in the below-given string.\n",
    "string = \"I want to become a data scientist\""
   ]
  },
  {
   "cell_type": "code",
   "execution_count": 41,
   "id": "6c4b63ec",
   "metadata": {},
   "outputs": [],
   "source": [
    "string = \"I want to become a data scientist\""
   ]
  },
  {
   "cell_type": "code",
   "execution_count": 53,
   "id": "6371d276",
   "metadata": {},
   "outputs": [
    {
     "name": "stdout",
     "output_type": "stream",
     "text": [
      "i\n",
      "a\n",
      "o\n",
      "e\n",
      "o\n",
      "e\n",
      "a\n",
      "a\n",
      "a\n",
      "i\n",
      "e\n",
      "i\n"
     ]
    }
   ],
   "source": [
    "for char in string.lower():\n",
    "    if char == \"a\" or char == \"e\" or char == \"i\" or char == \"o\" or char == \"u\":\n",
    "        print(char)"
   ]
  }
 ],
 "metadata": {
  "kernelspec": {
   "display_name": "Python 3 (ipykernel)",
   "language": "python",
   "name": "python3"
  },
  "language_info": {
   "codemirror_mode": {
    "name": "ipython",
    "version": 3
   },
   "file_extension": ".py",
   "mimetype": "text/x-python",
   "name": "python",
   "nbconvert_exporter": "python",
   "pygments_lexer": "ipython3",
   "version": "3.9.13"
  }
 },
 "nbformat": 4,
 "nbformat_minor": 5
}
